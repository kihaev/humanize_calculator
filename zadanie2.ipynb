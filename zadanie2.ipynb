{
 "cells": [
  {
   "cell_type": "code",
   "execution_count": 281,
   "metadata": {},
   "outputs": [
    {
     "name": "stdout",
     "output_type": "stream",
     "text": [
      "1234567890\n"
     ]
    }
   ],
   "source": [
    "input1=input()"
   ]
  },
  {
   "cell_type": "code",
   "execution_count": 286,
   "metadata": {},
   "outputs": [],
   "source": [
    "List_digits=[\"zero\",\"one\",\"two\",\"three\",\"four\",\"five\",\"six\",\"seven\",\"eight\",\"nine\"]\n",
    "List_dozen=[\"eleven\",\"twelve\",\"thirteen\",\"fourteen\",\"fifteen\",\"sixteen\",\"seventeen\",\"eighteen\",\"nineteen\"]\n",
    "List_dozens=[\"ten\",\"twenty\",\"thirty\",\"forty\",\"fifty\",\"sixty\",\"seventy\",\"eighty\",\"ninety\"]\n",
    "List_big=[\"hundred\",\"thousand\",\"million\",\"billion\"]\n",
    "List_operators=[\"plus\",\"equals\",\"minus\",\"divide\",\"multiply\"]"
   ]
  },
  {
   "cell_type": "code",
   "execution_count": 287,
   "metadata": {},
   "outputs": [
    {
     "name": "stdout",
     "output_type": "stream",
     "text": [
      "1234567890\n"
     ]
    }
   ],
   "source": [
    "print(input1)"
   ]
  },
  {
   "cell_type": "code",
   "execution_count": 288,
   "metadata": {},
   "outputs": [],
   "source": [
    "def Humanize(x):\n",
    "    x=x.replace(\"+\",List_operators[0])\n",
    "    x=x.replace(\"=\",List_operators[1])\n",
    "    x=x.replace(\"/\",List_operators[2])\n",
    "    x=x.replace(\"-\",List_operators[3])\n",
    "    x=x.replace(\"*\",List_operators[4])\n",
    "    y=x.split(\" \")\n",
    "    i = 0\n",
    "    while i<len(y):\n",
    "        if ((y[i]!=\"plus\") and (y[i]!=\"equals\") and (y[i]!=\"divide\") and (y[i]!=\"minus\") and (y[i]!=\"multiply\")):\n",
    "            print(y[i][0:len(y[i])-9])\n",
    "            if len(y[i])<4:\n",
    "                y[i]=triple(y[i])\n",
    "            elif len (y[i])<7:\n",
    "                y[i]=triple(y[i][:len(y[i])-3])+\" \"+ List_big[1]+\" \"+triple(y[i][len(y[i])-3:])\n",
    "            elif len (y[i])<10:\n",
    "                y[i]=triple(y[i][:len(y[i])-6])+\" \"+ List_big[2]+\" \"+triple(y[i][len(y[i])-6:len(y[i])-3])+\" \"+List_big[1]+\" \"+triple(y[i][len(y[i])-3:])\n",
    "            elif len (y[i])<13:\n",
    "                y[i]=triple(y[i][:len(y[i])-9])+\" \"+ List_big[3]+\" \"+triple(y[i][len(y[i])-9:len(y[i])-6])+\" \"+ List_big[2]+\" \"+triple(y[i][len(y[i])-6:len(y[i])-3])+\" \"+List_big[1]+\" \"+triple(y[i][len(y[i])-3:])\n",
    "        i=i+1\n",
    "    return y;"
   ]
  },
  {
   "cell_type": "code",
   "execution_count": 289,
   "metadata": {},
   "outputs": [],
   "source": [
    "def triple(a):\n",
    "    s=\"\"\n",
    "    if len(a)==3:\n",
    "        for current_digit in range(0,3):\n",
    "            if int(a[current_digit])==0:\n",
    "                continue\n",
    "            elif (current_digit==0):\n",
    "                s=List_digits[int(a[current_digit])]+\" \"+List_big[0]+\" \"\n",
    "            elif ((current_digit==1) and ((int(a[current_digit])!=1) or (int(a[current_digit])==1 and (int(a[current_digit+1]==0))))):\n",
    "                s=s+List_dozens[int(a[current_digit])-1]+\" \"\n",
    "            elif ((current_digit==1) and (int(a[current_digit+1])!=0) and (int(a[current_digit])==1)):\n",
    "                s=s+List_dozen[int(a[current_digit]+a[current_digit+1])-11]+\" \"\n",
    "            elif ((current_digit==2) and (int(a[current_digit-1])!=1)):\n",
    "                s=s+List_digits[int(a[current_digit])]\n",
    "    elif len(a)==2:\n",
    "        for current_digit in range(0,2):\n",
    "            if int(a[current_digit])==0:\n",
    "                continue\n",
    "            elif ((current_digit==0) and (int(a[current_digit])!=1) or (int(a[current_digit])==1) and (int(a[current_digit+1])==0)):\n",
    "                s=List_dozens[int(a[current_digit])-1]+\" \"\n",
    "            elif ((current_digit==0) and (int(a[current_digit+1])!=0) and (int(a[current_digit])==1)):\n",
    "                s=s+List_dozen[int(a[current_digit]+a[current_digit+1])-11]+\" \"\n",
    "            elif ((current_digit==1)and (int(a[current_digit-1])!=1)):\n",
    "                s=s+List_digits[int(a[current_digit])]\n",
    "    elif len(a)==1:\n",
    "        s=List_digits[int(a)]\n",
    "    return s;"
   ]
  },
  {
   "cell_type": "code",
   "execution_count": 290,
   "metadata": {},
   "outputs": [
    {
     "name": "stdout",
     "output_type": "stream",
     "text": [
      "1\n",
      "one billion two hundred thirty four million five hundred sixty seven thousand eight hundred ninety \n"
     ]
    }
   ],
   "source": [
    "output=\" \".join(Humanize(input1))\n",
    "print(output)"
   ]
  },
  {
   "cell_type": "code",
   "execution_count": null,
   "metadata": {},
   "outputs": [],
   "source": []
  },
  {
   "cell_type": "code",
   "execution_count": null,
   "metadata": {},
   "outputs": [],
   "source": []
  }
 ],
 "metadata": {
  "kernelspec": {
   "display_name": "Python 3",
   "language": "python",
   "name": "python3"
  },
  "language_info": {
   "codemirror_mode": {
    "name": "ipython",
    "version": 3
   },
   "file_extension": ".py",
   "mimetype": "text/x-python",
   "name": "python",
   "nbconvert_exporter": "python",
   "pygments_lexer": "ipython3",
   "version": "3.7.3"
  }
 },
 "nbformat": 4,
 "nbformat_minor": 2
}
