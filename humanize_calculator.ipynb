{
 "cells": [
  {
   "cell_type": "code",
   "execution_count": 46,
   "metadata": {},
   "outputs": [
    {
     "name": "stdout",
     "output_type": "stream",
     "text": [
      "555 + 12342\n",
      "Okay\n"
     ]
    }
   ],
   "source": [
    "import re\n",
    "good_input=0\n",
    "while good_input!=1:\n",
    "    input_calc=input()\n",
    "    input_check=input_calc.replace(\" \", \"\")\n",
    "    if (not input_check) or (not re.match(\"^[0-9,+,\\-,=,/,*,^\\s]*$\", input_check)):\n",
    "        print(\"Invalid input\")\n",
    "        continue\n",
    "    else :\n",
    "        good_input=1\n",
    "        print(\"Okay\")"
   ]
  },
  {
   "cell_type": "code",
   "execution_count": 41,
   "metadata": {},
   "outputs": [],
   "source": [
    "List_digits=[\"zero\",\"one\",\"two\",\"three\",\"four\",\"five\",\"six\",\"seven\",\"eight\",\"nine\"]\n",
    "List_dozen=[\"eleven\",\"twelve\",\"thirteen\",\"fourteen\",\"fifteen\",\"sixteen\",\"seventeen\",\"eighteen\",\"nineteen\"]\n",
    "List_dozens=[\"ten\",\"twenty\",\"thirty\",\"forty\",\"fifty\",\"sixty\",\"seventy\",\"eighty\",\"ninety\"]\n",
    "List_big=[\"hundred\",\"thousand\",\"million\",\"billion\"]\n",
    "List_operators=[\"plus\",\"equals\",\"minus\",\"divide\",\"multiply\"]"
   ]
  },
  {
   "cell_type": "code",
   "execution_count": 42,
   "metadata": {},
   "outputs": [],
   "source": [
    "def Humanize(str_input):\n",
    "    list_input=[]\n",
    "    j=0\n",
    "    number=\"\"\n",
    "    while j<len(str_input):\n",
    "        if re.match(\"^[+,\\-,=,/,*]*$\", str_input[j]):\n",
    "            list_input.append(str_input[j])\n",
    "        if not re.match(\"^[+,\\-,=,/,*]*$\", str_input[j]):\n",
    "            number=number+str_input[j]\n",
    "        if ((j!=len(str_input)-1)and (re.match(\"^[+,\\-,=,/,*]*$\", str_input[j+1])) and (not re.match(\"^[+,\\-,=,/,*]*$\", str_input[j]))):\n",
    "            list_input.append(number)\n",
    "            number=\"\"\n",
    "        if (not re.match(\"^[+,\\-,=,/,*]*$\", str_input[j])) and (j==len(str_input)-1):\n",
    "            list_input.append(number)  \n",
    "        j=j+1\n",
    "    k=0    \n",
    "    while k<len(list_input):\n",
    "        if list_input[k]==\"+\":\n",
    "            list_input[k]=List_operators[0]\n",
    "        if list_input[k]==\"=\":\n",
    "            list_input[k]=List_operators[1]\n",
    "        if list_input[k]==\"-\":\n",
    "            list_input[k]=List_operators[2]\n",
    "        if list_input[k]==\"/\":\n",
    "            list_input[k]=List_operators[3]\n",
    "        if list_input[k]==\"*\":\n",
    "            list_input[k]=List_operators[4]\n",
    "        k=k+1    \n",
    "    i = 0\n",
    "    while i<len(list_input):\n",
    "        if ((list_input[i]!=List_operators[0]) and (list_input[i]!=List_operators[1]) and (list_input[i]!=List_operators[2]) and (list_input[i]!=List_operators[3]) and (list_input[i]!=List_operators[4])):\n",
    "            if len(list_input[i])<4:\n",
    "                list_input[i]=triple(list_input[i])\n",
    "            elif len (list_input[i])<7:\n",
    "                list_input[i]=triple(list_input[i][:len(list_input[i])-3])+\" \"+ List_big[1]+\" \"+triple(list_input[i][len(list_input[i])-3:])\n",
    "            elif len (list_input[i])<10:\n",
    "                list_input[i]=triple(list_input[i][:len(list_input[i])-6])+\" \"+ List_big[2]+\" \"+triple(list_input[i][len(y[i])-6:len(list_input[i])-3])+\" \"+List_big[1]+\" \"+triple(list_input[i][len(list_input[i])-3:])\n",
    "            elif len (list_input[i])<13:\n",
    "                list_input[i]=triple(list_input[i][:len(list_input[i])-9])+\" \"+ List_big[3]+\" \"+triple(list_input[i][len(y[i])-9:len(list_input[i])-6])+\" \"+ List_big[2]+\" \"+triple(y[i][len(list_input[i])-6:len(list_input[i])-3])+\" \"+List_big[1]+\" \"+triple(list_input[i][len(list_input[i])-3:])\n",
    "        i=i+1\n",
    "    return list_input;"
   ]
  },
  {
   "cell_type": "code",
   "execution_count": 43,
   "metadata": {},
   "outputs": [],
   "source": [
    "def triple(a):\n",
    "    s=\"\"\n",
    "    if len(a)==3:\n",
    "        for current_digit in range(0,3):\n",
    "            if int(a[current_digit])==0:\n",
    "                continue\n",
    "            elif (current_digit==0):\n",
    "                s=List_digits[int(a[current_digit])]+\" \"+List_big[0]+\" \"\n",
    "            elif ((current_digit==1) and ((int(a[current_digit])!=1) or (int(a[current_digit])==1 and (int(a[current_digit+1]==0))))):\n",
    "                s=s+List_dozens[int(a[current_digit])-1]+\" \"\n",
    "            elif ((current_digit==1) and (int(a[current_digit+1])!=0) and (int(a[current_digit])==1)):\n",
    "                s=s+List_dozen[int(a[current_digit]+a[current_digit+1])-11]+\" \"\n",
    "            elif ((current_digit==2) and (int(a[current_digit-1])!=1)):\n",
    "                s=s+List_digits[int(a[current_digit])]\n",
    "    elif len(a)==2:\n",
    "        for current_digit in range(0,2):\n",
    "            if int(a[current_digit])==0:\n",
    "                continue\n",
    "            elif ((current_digit==0) and (int(a[current_digit])!=1) or (int(a[current_digit])==1) and (int(a[current_digit+1])==0)):\n",
    "                s=List_dozens[int(a[current_digit])-1]+\" \"\n",
    "            elif ((current_digit==0) and (int(a[current_digit+1])!=0) and (int(a[current_digit])==1)):\n",
    "                s=s+List_dozen[int(a[current_digit]+a[current_digit+1])-11]+\" \"\n",
    "            elif ((current_digit==1)and (int(a[current_digit-1])!=1)):\n",
    "                s=s+List_digits[int(a[current_digit])]\n",
    "    elif len(a)==1:\n",
    "        s=List_digits[int(a)]\n",
    "    return s;"
   ]
  },
  {
   "cell_type": "code",
   "execution_count": 47,
   "metadata": {},
   "outputs": [
    {
     "data": {
      "text/plain": [
       "'five hundred fifty five plus twelve thousand three hundred forty two'"
      ]
     },
     "execution_count": 47,
     "metadata": {},
     "output_type": "execute_result"
    }
   ],
   "source": [
    "output=\" \".join(Humanize(input_check))\n",
    "output=output.rstrip()\n",
    "re.sub(' +', ' ',output)"
   ]
  }
 ],
 "metadata": {
  "kernelspec": {
   "display_name": "Python 3",
   "language": "python",
   "name": "python3"
  },
  "language_info": {
   "codemirror_mode": {
    "name": "ipython",
    "version": 3
   },
   "file_extension": ".py",
   "mimetype": "text/x-python",
   "name": "python",
   "nbconvert_exporter": "python",
   "pygments_lexer": "ipython3",
   "version": "3.7.3"
  }
 },
 "nbformat": 4,
 "nbformat_minor": 2
}
